{
 "cells": [
  {
   "cell_type": "code",
   "execution_count": 2,
   "metadata": {},
   "outputs": [
    {
     "name": "stdout",
     "output_type": "stream",
     "text": [
      "New gesture data saved to new_gesture_data.csv\n"
     ]
    }
   ],
   "source": [
    "import cv2\n",
    "import mediapipe as mp\n",
    "import numpy as np\n",
    "import os\n",
    "import csv\n",
    "\n",
    "# MediaPipe 손 모델 초기화\n",
    "mp_hands = mp.solutions.hands\n",
    "hands = mp_hands.Hands(static_image_mode=True, max_num_hands=1, min_detection_confidence=0.5)\n",
    "\n",
    "# 새로운 제스처 라벨 정의\n",
    "new_gesture_label = 10.000000  # 새로운 제스처 라벨 번호 (소수점 6자리로 저장)\n",
    "\n",
    "# 이미지 폴더 경로 (모든 이미지 파일을 처리할 폴더 경로)\n",
    "image_folder = r'C:\\jun_vs\\dataset\\10'  # 경로에 맞춰 수정\n",
    "csv_file = 'new_gesture_data.csv'  # 결과를 저장할 CSV 파일\n",
    "\n",
    "# CSV 파일에 관절 각도와 라벨 저장\n",
    "with open(csv_file, mode='w', newline='') as f:\n",
    "    writer = csv.writer(f)\n",
    "    \n",
    "    # 이미지 폴더 내 모든 이미지 파일 반복\n",
    "    for img_name in os.listdir(image_folder):\n",
    "        # 파일 경로 만들기\n",
    "        img_path = os.path.join(image_folder, img_name)\n",
    "        \n",
    "        # 파일이 실제로 존재하는지 확인\n",
    "        if not os.path.exists(img_path):\n",
    "            print(f\"File not found: {img_path}\")\n",
    "            continue\n",
    "        \n",
    "        # 이미지 파일 읽기\n",
    "        img = cv2.imread(img_path)\n",
    "\n",
    "        # 이미지가 제대로 불러와졌는지 확인\n",
    "        if img is None:\n",
    "            print(f\"Failed to load image: {img_path}\")\n",
    "            continue\n",
    "        \n",
    "        # MediaPipe로 손 관절 분석\n",
    "        img_rgb = cv2.cvtColor(img, cv2.COLOR_BGR2RGB)\n",
    "        result = hands.process(img_rgb)\n",
    "\n",
    "        if result.multi_hand_landmarks:\n",
    "            for res in result.multi_hand_landmarks:\n",
    "                joint = np.zeros((21, 3))\n",
    "                for j, lm in enumerate(res.landmark):\n",
    "                    joint[j] = [lm.x, lm.y, lm.z]\n",
    "                \n",
    "                # 부모 관절과 자식 관절 간의 벡터 계산\n",
    "                v1 = joint[[0,1,2,3,0,5,6,7,0,9,10,11,0,13,14,15,0,17,18,19],:] # 부모 관절\n",
    "                v2 = joint[[1,2,3,4,5,6,7,8,9,10,11,12,13,14,15,16,17,18,19,20],:] # 자식 관절\n",
    "                v = v2 - v1\n",
    "                v = v / np.linalg.norm(v, axis=1)[:, np.newaxis]\n",
    "\n",
    "                # 각도 계산\n",
    "                angle = np.arccos(np.einsum('nt,nt->n', v[[0,1,2,4,5,6,8,9,10,12,13,14,16,17,18],:], v[[1,2,3,5,6,7,9,10,11,13,14,15,17,18,19],:]))\n",
    "                angle = np.degrees(angle)\n",
    "                \n",
    "                # 각도 데이터를 소수점 6자리로 제한하고, 리스트로 변환\n",
    "                angle = np.round(angle, 6).tolist()  # 소수점 6자리로 제한\n",
    "                \n",
    "                # 각도 데이터와 제스처 라벨 추가 (소수점 6자리로)\n",
    "                angle.append(np.round(new_gesture_label, 6))  # 라벨도 소수점 6자리\n",
    "                \n",
    "                # CSV 파일에 데이터 기록\n",
    "                writer.writerow(angle)\n",
    "\n",
    "print(f\"New gesture data saved to {csv_file}\")"
   ]
  }
 ],
 "metadata": {
  "kernelspec": {
   "display_name": "Python 3",
   "language": "python",
   "name": "python3"
  },
  "language_info": {
   "codemirror_mode": {
    "name": "ipython",
    "version": 3
   },
   "file_extension": ".py",
   "mimetype": "text/x-python",
   "name": "python",
   "nbconvert_exporter": "python",
   "pygments_lexer": "ipython3",
   "version": "3.12.5"
  }
 },
 "nbformat": 4,
 "nbformat_minor": 2
}
